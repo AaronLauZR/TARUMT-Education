{
 "cells": [
  {
   "cell_type": "markdown",
   "id": "be98b359",
   "metadata": {},
   "source": [
    "Import libraries "
   ]
  },
  {
   "cell_type": "code",
   "execution_count": 1,
   "id": "7c4ada13",
   "metadata": {},
   "outputs": [],
   "source": [
    "# Common\n",
    "import os\n",
    "import numpy as np\n",
    "import pandas as pd\n",
    "import tensorflow as tf\n",
    "from IPython.display import clear_output as cls\n",
    "\n",
    "# Data \n",
    "from tqdm import tqdm \n",
    "from glob import glob\n",
    "import tensorflow.data as tfd\n",
    "\n",
    "# Data Visualization\n",
    "import plotly.express as px\n",
    "import matplotlib.pyplot as plt\n",
    "\n",
    "# Model\n",
    "from tensorflow import keras\n",
    "from tensorflow.keras import layers\n",
    "from tensorflow.keras import callbacks\n",
    "from tensorflow.keras import applications as tka"
   ]
  },
  {
   "cell_type": "code",
   "execution_count": null,
   "id": "08e61f59",
   "metadata": {},
   "outputs": [],
   "source": [
    "!pip install keras_tuner\n",
    "import keras_tuner as kt\n",
    "cls()"
   ]
  },
  {
   "cell_type": "code",
   "execution_count": null,
   "id": "c040cb75",
   "metadata": {},
   "outputs": [],
   "source": [
    "# The batch size\n",
    "BATCH_SIZE = 64\n",
    "\n",
    "# Image dims \n",
    "IMAGE_SIZE = (120,120)                                    # Even this will work\n",
    "\n",
    "# Buffer size\n",
    "BUFFER = 1000\n",
    "\n",
    "# Autotuning\n",
    "AUTOTUNE = tfd.AUTOTUNE"
   ]
  },
  {
   "cell_type": "code",
   "execution_count": null,
   "id": "5b3d745e",
   "metadata": {},
   "outputs": [],
   "source": [
    "# Setting the Random Seeds\n",
    "np.random.seed(1024)\n",
    "tf.random.set_seed(1024)"
   ]
  },
  {
   "cell_type": "markdown",
   "id": "71277fb9",
   "metadata": {},
   "source": [
    "Data Loading"
   ]
  },
  {
   "cell_type": "code",
   "execution_count": null,
   "id": "75e55384",
   "metadata": {},
   "outputs": [],
   "source": []
  }
 ],
 "metadata": {
  "kernelspec": {
   "display_name": "Python 3 (ipykernel)",
   "language": "python",
   "name": "python3"
  },
  "language_info": {
   "codemirror_mode": {
    "name": "ipython",
    "version": 3
   },
   "file_extension": ".py",
   "mimetype": "text/x-python",
   "name": "python",
   "nbconvert_exporter": "python",
   "pygments_lexer": "ipython3",
   "version": "3.9.13"
  }
 },
 "nbformat": 4,
 "nbformat_minor": 5
}
